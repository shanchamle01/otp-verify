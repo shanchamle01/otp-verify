{
 "cells": [
  {
   "cell_type": "code",
   "execution_count": 1,
   "id": "5164f797-bd44-49bc-9c63-3e35a068071a",
   "metadata": {},
   "outputs": [],
   "source": [
    "\n",
    "import random\n",
    "import smtplib"
   ]
  },
  {
   "cell_type": "code",
   "execution_count": 2,
   "id": "e2fdd193-ae82-4a50-97ad-63c96833acc2",
   "metadata": {},
   "outputs": [],
   "source": [
    "otp=\"\".join([str(random.randint(0,9)) for i in range(6)])"
   ]
  },
  {
   "cell_type": "code",
   "execution_count": 3,
   "id": "2b6bd359-51b5-471b-9ff2-d678dac7c20c",
   "metadata": {},
   "outputs": [
    {
     "data": {
      "text/plain": [
       "(221,\n",
       " b'2.0.0 closing connection d19-20020aa78693000000b0062cf75a9e6bsm11122472pfo.131 - gsmtp')"
      ]
     },
     "execution_count": 3,
     "metadata": {},
     "output_type": "execute_result"
    }
   ],
   "source": [
    "server=smtplib.SMTP('smtp.gmail.com',587)\n",
    "server.starttls()\n",
    "server.login('shanchamle08@gmail.com','ltiouoclmyitqnfp')\n",
    "msg='hello,your OTP is'+str(otp)\n",
    "server.sendmail('shanchamle08@gmail.com','shantisagarchamle1212@gmail.com',msg)\n",
    "server.quit()"
   ]
  },
  {
   "cell_type": "code",
   "execution_count": null,
   "id": "2e0c7f50-72a6-4a2f-bdf5-eab681c90e33",
   "metadata": {},
   "outputs": [],
   "source": []
  }
 ],
 "metadata": {
  "kernelspec": {
   "display_name": "Python 3 (ipykernel)",
   "language": "python",
   "name": "python3"
  },
  "language_info": {
   "codemirror_mode": {
    "name": "ipython",
    "version": 3
   },
   "file_extension": ".py",
   "mimetype": "text/x-python",
   "name": "python",
   "nbconvert_exporter": "python",
   "pygments_lexer": "ipython3",
   "version": "3.11.4"
  }
 },
 "nbformat": 4,
 "nbformat_minor": 5
}
